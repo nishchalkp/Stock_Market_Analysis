{
 "cells": [
  {
   "cell_type": "code",
   "execution_count": 1,
   "id": "0a7d1624-4209-4cff-8ebc-154ccbd1915f",
   "metadata": {},
   "outputs": [
    {
     "data": {
      "text/html": [
       "<div>\n",
       "<style scoped>\n",
       "    .dataframe tbody tr th:only-of-type {\n",
       "        vertical-align: middle;\n",
       "    }\n",
       "\n",
       "    .dataframe tbody tr th {\n",
       "        vertical-align: top;\n",
       "    }\n",
       "\n",
       "    .dataframe thead th {\n",
       "        text-align: right;\n",
       "    }\n",
       "</style>\n",
       "<table border=\"1\" class=\"dataframe\">\n",
       "  <thead>\n",
       "    <tr style=\"text-align: right;\">\n",
       "      <th></th>\n",
       "      <th>Date</th>\n",
       "      <th>Open</th>\n",
       "      <th>High</th>\n",
       "      <th>Low</th>\n",
       "      <th>Close</th>\n",
       "      <th>Adj Close</th>\n",
       "      <th>Volume</th>\n",
       "    </tr>\n",
       "  </thead>\n",
       "  <tbody>\n",
       "    <tr>\n",
       "      <th>0</th>\n",
       "      <td>2012-01-03</td>\n",
       "      <td>58.485714</td>\n",
       "      <td>58.928570</td>\n",
       "      <td>58.428570</td>\n",
       "      <td>58.747143</td>\n",
       "      <td>50.765709</td>\n",
       "      <td>75555200</td>\n",
       "    </tr>\n",
       "    <tr>\n",
       "      <th>1</th>\n",
       "      <td>2012-01-04</td>\n",
       "      <td>58.571430</td>\n",
       "      <td>59.240002</td>\n",
       "      <td>58.468571</td>\n",
       "      <td>59.062859</td>\n",
       "      <td>51.038536</td>\n",
       "      <td>65005500</td>\n",
       "    </tr>\n",
       "    <tr>\n",
       "      <th>2</th>\n",
       "      <td>2012-01-05</td>\n",
       "      <td>59.278572</td>\n",
       "      <td>59.792858</td>\n",
       "      <td>58.952858</td>\n",
       "      <td>59.718571</td>\n",
       "      <td>51.605175</td>\n",
       "      <td>67817400</td>\n",
       "    </tr>\n",
       "    <tr>\n",
       "      <th>3</th>\n",
       "      <td>2012-01-06</td>\n",
       "      <td>59.967144</td>\n",
       "      <td>60.392857</td>\n",
       "      <td>59.888573</td>\n",
       "      <td>60.342857</td>\n",
       "      <td>52.144630</td>\n",
       "      <td>79573200</td>\n",
       "    </tr>\n",
       "    <tr>\n",
       "      <th>4</th>\n",
       "      <td>2012-01-09</td>\n",
       "      <td>60.785713</td>\n",
       "      <td>61.107143</td>\n",
       "      <td>60.192856</td>\n",
       "      <td>60.247143</td>\n",
       "      <td>52.061932</td>\n",
       "      <td>98506100</td>\n",
       "    </tr>\n",
       "  </tbody>\n",
       "</table>\n",
       "</div>"
      ],
      "text/plain": [
       "         Date       Open       High        Low      Close  Adj Close    Volume\n",
       "0  2012-01-03  58.485714  58.928570  58.428570  58.747143  50.765709  75555200\n",
       "1  2012-01-04  58.571430  59.240002  58.468571  59.062859  51.038536  65005500\n",
       "2  2012-01-05  59.278572  59.792858  58.952858  59.718571  51.605175  67817400\n",
       "3  2012-01-06  59.967144  60.392857  59.888573  60.342857  52.144630  79573200\n",
       "4  2012-01-09  60.785713  61.107143  60.192856  60.247143  52.061932  98506100"
      ]
     },
     "execution_count": 1,
     "metadata": {},
     "output_type": "execute_result"
    }
   ],
   "source": [
    "import pandas as pd\n",
    "import seaborn as sns\n",
    "import matplotlib.pyplot as plt\n",
    "\n",
    "stock_price = pd.read_csv(r'D:\\Nishchal\\Excelr Data Science\\Project\\Stock_Market_Analysis\\Dataset\\AAPL.csv')\n",
    "stock_price.head()"
   ]
  },
  {
   "cell_type": "code",
   "execution_count": 2,
   "id": "0d2e69ca-16c4-4bfa-91b5-3b459a8c6b32",
   "metadata": {},
   "outputs": [
    {
     "data": {
      "text/plain": [
       "(2011, 7)"
      ]
     },
     "execution_count": 2,
     "metadata": {},
     "output_type": "execute_result"
    }
   ],
   "source": [
    "stock_price.shape"
   ]
  },
  {
   "cell_type": "code",
   "execution_count": 3,
   "id": "87080ce0-c3cb-44bf-8574-b68c9e5164d4",
   "metadata": {},
   "outputs": [
    {
     "data": {
      "text/plain": [
       "Index(['Date', 'Open', 'High', 'Low', 'Close', 'Adj Close', 'Volume'], dtype='object')"
      ]
     },
     "execution_count": 3,
     "metadata": {},
     "output_type": "execute_result"
    }
   ],
   "source": [
    "stock_price.columns"
   ]
  },
  {
   "cell_type": "code",
   "execution_count": 4,
   "id": "dee24a93-35b8-47be-abc1-fab807a3a6ce",
   "metadata": {},
   "outputs": [
    {
     "data": {
      "text/plain": [
       "Date         0\n",
       "Open         0\n",
       "High         0\n",
       "Low          0\n",
       "Close        0\n",
       "Adj Close    0\n",
       "Volume       0\n",
       "dtype: int64"
      ]
     },
     "execution_count": 4,
     "metadata": {},
     "output_type": "execute_result"
    }
   ],
   "source": [
    "stock_price.isnull().sum()"
   ]
  },
  {
   "cell_type": "code",
   "execution_count": 5,
   "id": "d7a62fb8-00f7-4dab-ba58-8061993fc9cf",
   "metadata": {},
   "outputs": [
    {
     "data": {
      "text/plain": [
       "(2011, 7)"
      ]
     },
     "execution_count": 5,
     "metadata": {},
     "output_type": "execute_result"
    }
   ],
   "source": [
    "\n",
    "stock_price_preprocessed = stock_price.drop_duplicates(subset=['Date'], keep='first')\n",
    "\n",
    "stock_price_preprocessed.shape#There are noo duplicates or null values in the dataset"
   ]
  },
  {
   "cell_type": "code",
   "execution_count": 6,
   "id": "cbb6e68a-437b-4f42-9837-bf6e8cd5a565",
   "metadata": {},
   "outputs": [
    {
     "name": "stdout",
     "output_type": "stream",
     "text": [
      "<class 'pandas.core.frame.DataFrame'>\n",
      "RangeIndex: 2011 entries, 0 to 2010\n",
      "Data columns (total 7 columns):\n",
      " #   Column     Non-Null Count  Dtype  \n",
      "---  ------     --------------  -----  \n",
      " 0   Date       2011 non-null   object \n",
      " 1   Open       2011 non-null   float64\n",
      " 2   High       2011 non-null   float64\n",
      " 3   Low        2011 non-null   float64\n",
      " 4   Close      2011 non-null   float64\n",
      " 5   Adj Close  2011 non-null   float64\n",
      " 6   Volume     2011 non-null   int64  \n",
      "dtypes: float64(5), int64(1), object(1)\n",
      "memory usage: 110.1+ KB\n"
     ]
    }
   ],
   "source": [
    "stock_price_preprocessed.info()"
   ]
  },
  {
   "cell_type": "code",
   "execution_count": 7,
   "id": "3bfc4fdc-4f25-4d57-898b-6ba50cb49317",
   "metadata": {},
   "outputs": [
    {
     "data": {
      "text/html": [
       "<div>\n",
       "<style scoped>\n",
       "    .dataframe tbody tr th:only-of-type {\n",
       "        vertical-align: middle;\n",
       "    }\n",
       "\n",
       "    .dataframe tbody tr th {\n",
       "        vertical-align: top;\n",
       "    }\n",
       "\n",
       "    .dataframe thead th {\n",
       "        text-align: right;\n",
       "    }\n",
       "</style>\n",
       "<table border=\"1\" class=\"dataframe\">\n",
       "  <thead>\n",
       "    <tr style=\"text-align: right;\">\n",
       "      <th></th>\n",
       "      <th>Open</th>\n",
       "      <th>High</th>\n",
       "      <th>Low</th>\n",
       "      <th>Close</th>\n",
       "      <th>Adj Close</th>\n",
       "      <th>Volume</th>\n",
       "    </tr>\n",
       "  </thead>\n",
       "  <tbody>\n",
       "    <tr>\n",
       "      <th>count</th>\n",
       "      <td>2011.000000</td>\n",
       "      <td>2011.000000</td>\n",
       "      <td>2011.000000</td>\n",
       "      <td>2011.000000</td>\n",
       "      <td>2011.000000</td>\n",
       "      <td>2.011000e+03</td>\n",
       "    </tr>\n",
       "    <tr>\n",
       "      <th>mean</th>\n",
       "      <td>126.707469</td>\n",
       "      <td>127.827594</td>\n",
       "      <td>125.580258</td>\n",
       "      <td>126.741235</td>\n",
       "      <td>119.505548</td>\n",
       "      <td>5.949670e+07</td>\n",
       "    </tr>\n",
       "    <tr>\n",
       "      <th>std</th>\n",
       "      <td>50.483753</td>\n",
       "      <td>50.926301</td>\n",
       "      <td>50.124940</td>\n",
       "      <td>50.578369</td>\n",
       "      <td>52.438444</td>\n",
       "      <td>4.683856e+07</td>\n",
       "    </tr>\n",
       "    <tr>\n",
       "      <th>min</th>\n",
       "      <td>55.424286</td>\n",
       "      <td>57.085712</td>\n",
       "      <td>55.014286</td>\n",
       "      <td>55.790001</td>\n",
       "      <td>48.921928</td>\n",
       "      <td>1.136200e+07</td>\n",
       "    </tr>\n",
       "    <tr>\n",
       "      <th>25%</th>\n",
       "      <td>85.882858</td>\n",
       "      <td>86.717858</td>\n",
       "      <td>85.056427</td>\n",
       "      <td>86.202145</td>\n",
       "      <td>75.056679</td>\n",
       "      <td>2.758565e+07</td>\n",
       "    </tr>\n",
       "    <tr>\n",
       "      <th>50%</th>\n",
       "      <td>113.050003</td>\n",
       "      <td>114.190002</td>\n",
       "      <td>111.870003</td>\n",
       "      <td>113.050003</td>\n",
       "      <td>105.222908</td>\n",
       "      <td>4.346900e+07</td>\n",
       "    </tr>\n",
       "    <tr>\n",
       "      <th>75%</th>\n",
       "      <td>165.190002</td>\n",
       "      <td>167.409996</td>\n",
       "      <td>163.424995</td>\n",
       "      <td>165.245002</td>\n",
       "      <td>160.047111</td>\n",
       "      <td>7.471030e+07</td>\n",
       "    </tr>\n",
       "    <tr>\n",
       "      <th>max</th>\n",
       "      <td>291.119995</td>\n",
       "      <td>293.970001</td>\n",
       "      <td>288.119995</td>\n",
       "      <td>291.519989</td>\n",
       "      <td>289.522614</td>\n",
       "      <td>3.765300e+08</td>\n",
       "    </tr>\n",
       "  </tbody>\n",
       "</table>\n",
       "</div>"
      ],
      "text/plain": [
       "              Open         High          Low        Close    Adj Close  \\\n",
       "count  2011.000000  2011.000000  2011.000000  2011.000000  2011.000000   \n",
       "mean    126.707469   127.827594   125.580258   126.741235   119.505548   \n",
       "std      50.483753    50.926301    50.124940    50.578369    52.438444   \n",
       "min      55.424286    57.085712    55.014286    55.790001    48.921928   \n",
       "25%      85.882858    86.717858    85.056427    86.202145    75.056679   \n",
       "50%     113.050003   114.190002   111.870003   113.050003   105.222908   \n",
       "75%     165.190002   167.409996   163.424995   165.245002   160.047111   \n",
       "max     291.119995   293.970001   288.119995   291.519989   289.522614   \n",
       "\n",
       "             Volume  \n",
       "count  2.011000e+03  \n",
       "mean   5.949670e+07  \n",
       "std    4.683856e+07  \n",
       "min    1.136200e+07  \n",
       "25%    2.758565e+07  \n",
       "50%    4.346900e+07  \n",
       "75%    7.471030e+07  \n",
       "max    3.765300e+08  "
      ]
     },
     "execution_count": 7,
     "metadata": {},
     "output_type": "execute_result"
    }
   ],
   "source": [
    "stock_price_preprocessed.describe()"
   ]
  },
  {
   "cell_type": "code",
   "execution_count": 8,
   "id": "69f82a96-b98e-4e84-82f2-4c0e67da5820",
   "metadata": {},
   "outputs": [
    {
     "data": {
      "text/html": [
       "<div>\n",
       "<style scoped>\n",
       "    .dataframe tbody tr th:only-of-type {\n",
       "        vertical-align: middle;\n",
       "    }\n",
       "\n",
       "    .dataframe tbody tr th {\n",
       "        vertical-align: top;\n",
       "    }\n",
       "\n",
       "    .dataframe thead th {\n",
       "        text-align: right;\n",
       "    }\n",
       "</style>\n",
       "<table border=\"1\" class=\"dataframe\">\n",
       "  <thead>\n",
       "    <tr style=\"text-align: right;\">\n",
       "      <th></th>\n",
       "      <th>Open</th>\n",
       "      <th>High</th>\n",
       "      <th>Low</th>\n",
       "      <th>Close</th>\n",
       "      <th>Adj Close</th>\n",
       "      <th>Volume</th>\n",
       "    </tr>\n",
       "  </thead>\n",
       "  <tbody>\n",
       "    <tr>\n",
       "      <th>Open</th>\n",
       "      <td>1.000000</td>\n",
       "      <td>0.999782</td>\n",
       "      <td>0.999718</td>\n",
       "      <td>0.999496</td>\n",
       "      <td>0.998895</td>\n",
       "      <td>-0.557956</td>\n",
       "    </tr>\n",
       "    <tr>\n",
       "      <th>High</th>\n",
       "      <td>0.999782</td>\n",
       "      <td>1.000000</td>\n",
       "      <td>0.999657</td>\n",
       "      <td>0.999748</td>\n",
       "      <td>0.999171</td>\n",
       "      <td>-0.554909</td>\n",
       "    </tr>\n",
       "    <tr>\n",
       "      <th>Low</th>\n",
       "      <td>0.999718</td>\n",
       "      <td>0.999657</td>\n",
       "      <td>1.000000</td>\n",
       "      <td>0.999769</td>\n",
       "      <td>0.999179</td>\n",
       "      <td>-0.563426</td>\n",
       "    </tr>\n",
       "    <tr>\n",
       "      <th>Close</th>\n",
       "      <td>0.999496</td>\n",
       "      <td>0.999748</td>\n",
       "      <td>0.999769</td>\n",
       "      <td>1.000000</td>\n",
       "      <td>0.999402</td>\n",
       "      <td>-0.559654</td>\n",
       "    </tr>\n",
       "    <tr>\n",
       "      <th>Adj Close</th>\n",
       "      <td>0.998895</td>\n",
       "      <td>0.999171</td>\n",
       "      <td>0.999179</td>\n",
       "      <td>0.999402</td>\n",
       "      <td>1.000000</td>\n",
       "      <td>-0.566332</td>\n",
       "    </tr>\n",
       "    <tr>\n",
       "      <th>Volume</th>\n",
       "      <td>-0.557956</td>\n",
       "      <td>-0.554909</td>\n",
       "      <td>-0.563426</td>\n",
       "      <td>-0.559654</td>\n",
       "      <td>-0.566332</td>\n",
       "      <td>1.000000</td>\n",
       "    </tr>\n",
       "  </tbody>\n",
       "</table>\n",
       "</div>"
      ],
      "text/plain": [
       "               Open      High       Low     Close  Adj Close    Volume\n",
       "Open       1.000000  0.999782  0.999718  0.999496   0.998895 -0.557956\n",
       "High       0.999782  1.000000  0.999657  0.999748   0.999171 -0.554909\n",
       "Low        0.999718  0.999657  1.000000  0.999769   0.999179 -0.563426\n",
       "Close      0.999496  0.999748  0.999769  1.000000   0.999402 -0.559654\n",
       "Adj Close  0.998895  0.999171  0.999179  0.999402   1.000000 -0.566332\n",
       "Volume    -0.557956 -0.554909 -0.563426 -0.559654  -0.566332  1.000000"
      ]
     },
     "execution_count": 8,
     "metadata": {},
     "output_type": "execute_result"
    }
   ],
   "source": [
    "corelation = stock_price_preprocessed.corr(numeric_only=True)\n",
    "corelation"
   ]
  },
  {
   "cell_type": "code",
   "execution_count": 10,
   "id": "4fbe0e2f-8bca-43e6-bd36-394ef40dd6fc",
   "metadata": {},
   "outputs": [
    {
     "data": {
      "image/png": "[encoded data removed]",
      "text/plain": [
       "<Figure size 640x480 with 2 Axes>"
      ]
     },
     "metadata": {},
     "output_type": "display_data"
    }
   ],
   "source": [
    "sns.heatmap(corelation,annot=True)\n",
    "plt.show()"
   ]
  },
  {
   "cell_type": "code",
   "execution_count": null,
   "id": "91d60480-e071-4675-8a3d-f2d5bb9d26cc",
   "metadata": {},
   "outputs": [],
   "source": []
  }
 ],
 "metadata": {
  "kernelspec": {
   "display_name": "Python 3 (ipykernel)",
   "language": "python",
   "name": "python3"
  },
  "language_info": {
   "codemirror_mode": {
    "name": "ipython",
    "version": 3
   },
   "file_extension": ".py",
   "mimetype": "text/x-python",
   "name": "python",
   "nbconvert_exporter": "python",
   "pygments_lexer": "ipython3",
   "version": "3.12.3"
  }
 },
 "nbformat": 4,
 "nbformat_minor": 5
}
